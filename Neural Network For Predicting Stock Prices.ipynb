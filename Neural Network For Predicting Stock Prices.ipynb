{
 "cells": [
  {
   "cell_type": "markdown",
   "id": "233cd8f9-d823-47be-8701-27547327859b",
   "metadata": {},
   "source": [
    "In this project, we created a neural network to predict the price of a stock. We used TSLA.csv data set.\n",
    "We implemented the neural network with the following details:\n",
    "- Sequential model with 5 layers.\n",
    "- 2 LSTM layers, and after each use a Dropout layer with a rate of 0.2. \n",
    "- The first LSTM layer has input_shape as a parameter along with units set to 4.\n",
    "- The final layer is a Dense layer with units set to 1.\n",
    "- we compiled it with a mean_squared_error loss and the optimizer set to adam.\n",
    "- we fit the training dataset with the following values:\n",
    " - epochs=5, batch_size=16, verbose=0\n",
    "- Finally, we predict function on the x_test dataset.\n"
   ]
  },
  {
   "cell_type": "code",
   "execution_count": 1,
   "id": "8d3cd692-d452-46d7-9582-0e392a51089f",
   "metadata": {},
   "outputs": [],
   "source": [
    "\n",
    "import pandas as pd\n",
    "import numpy as np\n",
    "import matplotlib.pyplot as plt\n",
    "#%matplotlib inline\n",
    "from sklearn.preprocessing import MinMaxScaler\n",
    "from keras.models import Sequential, load_model\n",
    "from keras.layers import LSTM, Dense, Dropout"
   ]
  },
  {
   "cell_type": "code",
   "execution_count": 2,
   "id": "119c8250-4d80-4519-9227-a7fc49e7aeb6",
   "metadata": {},
   "outputs": [],
   "source": [
    "df = pd.read_csv('TSLA.csv')\n",
    "df = df['Open'].values\n",
    "df = df.reshape(-1, 1)"
   ]
  },
  {
   "cell_type": "code",
   "execution_count": 3,
   "id": "6f3a2726-c793-4143-a171-8dafccef38af",
   "metadata": {},
   "outputs": [],
   "source": [
    "# setup datasets\n",
    "dataset_train = np.array(df[:int(df.shape[0]*0.8)])\n",
    "dataset_test = np.array(df[int(df.shape[0]*0.8):])"
   ]
  },
  {
   "cell_type": "code",
   "execution_count": 4,
   "id": "b94c9b60-dedb-4d58-85dd-7be80bbfdcae",
   "metadata": {},
   "outputs": [],
   "source": [
    "# scale the values\n",
    "scaler = MinMaxScaler(feature_range=(0,1))\n",
    "dataset_train = scaler.fit_transform(dataset_train)\n",
    "dataset_test = scaler.transform(dataset_test)"
   ]
  },
  {
   "cell_type": "code",
   "execution_count": 5,
   "id": "9257f028-9c3f-4c6a-8f94-716febeb4ca7",
   "metadata": {},
   "outputs": [],
   "source": [
    "#  creating the datasets with a function.\n",
    "def create_dataset(df):\n",
    "    x = []\n",
    "    y = []\n",
    "    for i in range(50, df.shape[0]):\n",
    "        x.append(df[i-50:i, 0]) \n",
    "        y.append(df[i, 0]) \n",
    "    x = np.array(x) \n",
    "    y = np.array(y)\n",
    "    return x,y"
   ]
  },
  {
   "cell_type": "code",
   "execution_count": 6,
   "id": "39ee0ae8-28a1-4cf7-adce-e11d360be562",
   "metadata": {},
   "outputs": [],
   "source": [
    "\n",
    "# use the 'create_dataset' function here on the datasets to create train/test datasets\n",
    "x_train, y_train = create_dataset(dataset_train)\n",
    "x_test, y_test = create_dataset(dataset_test)"
   ]
  },
  {
   "cell_type": "code",
   "execution_count": 7,
   "id": "eee5a2eb-6617-4c35-9c54-757fcaed8867",
   "metadata": {},
   "outputs": [],
   "source": [
    "\n",
    "# reshape the 'x_train' and 'x_test' datasets\n",
    "x_train=np.reshape(x_train,(x_train.shape[0], x_train.shape[1],1))\n",
    "x_test=np.reshape(x_test,(x_test.shape[0],x_test.shape[1],1))"
   ]
  },
  {
   "cell_type": "code",
   "execution_count": 8,
   "id": "a06e9a48-a1b3-4b4c-aced-54cd42ec58d8",
   "metadata": {},
   "outputs": [],
   "source": [
    "\n",
    "# implementation of the 'Sequential' model.\n",
    "model=Sequential()\n",
    "model.add(LSTM(units=4, input_shape=(x_train.shape[1],1), return_sequences=True))\n",
    "model.add(Dropout(0.2))\n",
    "model.add(LSTM(units=4, return_sequences=True))\n",
    "model.add(Dropout(0.2))\n",
    "model.add(Dense(units=1))"
   ]
  },
  {
   "cell_type": "code",
   "execution_count": 17,
   "id": "9a2615bb-64a4-4552-92e5-566da83ab8c3",
   "metadata": {},
   "outputs": [
    {
     "name": "stdout",
     "output_type": "stream",
     "text": [
      "WARNING:tensorflow:5 out of the last 5 calls to <function Model.make_predict_function.<locals>.predict_function at 0x0000023FD93AAAF0> triggered tf.function retracing. Tracing is expensive and the excessive number of tracings could be due to (1) creating @tf.function repeatedly in a loop, (2) passing tensors with different shapes, (3) passing Python objects instead of tensors. For (1), please define your @tf.function outside of the loop. For (2), @tf.function has reduce_retracing=True option that can avoid unnecessary retracing. For (3), please refer to https://www.tensorflow.org/guide/function#controlling_retracing and https://www.tensorflow.org/api_docs/python/tf/function for  more details.\n",
      "1/1 [==============================] - 1s 1s/step\n",
      "Model: \"sequential\"\n",
      "_________________________________________________________________\n",
      " Layer (type)                Output Shape              Param #   \n",
      "=================================================================\n",
      " lstm (LSTM)                 (None, 50, 4)             96        \n",
      "                                                                 \n",
      " dropout (Dropout)           (None, 50, 4)             0         \n",
      "                                                                 \n",
      " lstm_1 (LSTM)               (None, 50, 4)             144       \n",
      "                                                                 \n",
      " dropout_1 (Dropout)         (None, 50, 4)             0         \n",
      "                                                                 \n",
      " dense (Dense)               (None, 50, 1)             5         \n",
      "                                                                 \n",
      "=================================================================\n",
      "Total params: 245\n",
      "Trainable params: 245\n",
      "Non-trainable params: 0\n",
      "_________________________________________________________________\n"
     ]
    }
   ],
   "source": [
    "\n",
    "# compile the model, fit it, and then predict the values for 'x_test'\n",
    "model.compile(optimizer=\"adam\", loss=\"mean_squared_error\")\n",
    "model.fit(x_train,y_train, epochs=10, batch_size=16, verbose=0)\n",
    "predictions = model.predict(x_test)\n",
    "\n",
    " #the model summary \n",
    "model.summary()"
   ]
  },
  {
   "cell_type": "code",
   "execution_count": 16,
   "id": "7051c11b-bc34-44b0-9102-1bb7f4241193",
   "metadata": {},
   "outputs": [
    {
     "name": "stdout",
     "output_type": "stream",
     "text": [
      "[[[0.24194236]\n",
      "  [0.28780466]\n",
      "  [0.32766104]\n",
      "  [0.3615086 ]\n",
      "  [0.38970813]\n",
      "  [0.4128354 ]\n",
      "  [0.43119878]\n",
      "  [0.4453379 ]\n",
      "  [0.45584697]\n",
      "  [0.46317676]\n",
      "  [0.46811157]\n",
      "  [0.47123286]\n",
      "  [0.47278267]\n",
      "  [0.47324   ]\n",
      "  [0.47290057]\n",
      "  [0.47174236]\n",
      "  [0.47006667]\n",
      "  [0.4680462 ]\n",
      "  [0.4657523 ]\n",
      "  [0.4632943 ]\n",
      "  [0.46143728]\n",
      "  [0.4596375 ]\n",
      "  [0.45856702]\n",
      "  [0.45793423]\n",
      "  [0.45767704]\n",
      "  [0.4581889 ]\n",
      "  [0.45916113]\n",
      "  [0.46079242]\n",
      "  [0.462956  ]\n",
      "  [0.46522257]\n",
      "  [0.46692234]\n",
      "  [0.46892712]\n",
      "  [0.47090113]\n",
      "  [0.47292954]\n",
      "  [0.4751312 ]\n",
      "  [0.47763687]\n",
      "  [0.4789609 ]\n",
      "  [0.48050871]\n",
      "  [0.4820493 ]\n",
      "  [0.4837848 ]\n",
      "  [0.485241  ]\n",
      "  [0.48654062]\n",
      "  [0.48828173]\n",
      "  [0.48999158]\n",
      "  [0.49137127]\n",
      "  [0.49242005]\n",
      "  [0.49349123]\n",
      "  [0.4949083 ]\n",
      "  [0.49613535]\n",
      "  [0.49739102]]]\n"
     ]
    }
   ],
   "source": [
    "print(predictions)"
   ]
  },
  {
   "cell_type": "code",
   "execution_count": null,
   "id": "aa40e2e5-516d-4260-a0c0-a2469c1f298f",
   "metadata": {},
   "outputs": [],
   "source": []
  },
  {
   "cell_type": "code",
   "execution_count": null,
   "id": "82674476-5440-44ce-8411-b35427684d44",
   "metadata": {},
   "outputs": [],
   "source": []
  }
 ],
 "metadata": {
  "kernelspec": {
   "display_name": "Python 3 (ipykernel)",
   "language": "python",
   "name": "python3"
  },
  "language_info": {
   "codemirror_mode": {
    "name": "ipython",
    "version": 3
   },
   "file_extension": ".py",
   "mimetype": "text/x-python",
   "name": "python",
   "nbconvert_exporter": "python",
   "pygments_lexer": "ipython3",
   "version": "3.9.12"
  }
 },
 "nbformat": 4,
 "nbformat_minor": 5
}
